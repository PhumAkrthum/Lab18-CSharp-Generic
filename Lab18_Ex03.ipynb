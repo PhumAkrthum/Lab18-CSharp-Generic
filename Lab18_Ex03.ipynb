{
 "cells": [
  {
   "cell_type": "markdown",
   "metadata": {
    "polyglot_notebook": {
     "kernelName": "csharp"
    }
   },
   "source": [
    "# Lab 18 Exercise 3"
   ]
  },
  {
   "cell_type": "markdown",
   "metadata": {},
   "source": [
    "## Generic method"
   ]
  },
  {
   "cell_type": "markdown",
   "metadata": {},
   "source": [
    "1.สร้าง console application project\n",
    "\n",
    "```cmd\n",
    "dotnet new console --name Lab18_Ex03\n",
    "```"
   ]
  },
  {
   "cell_type": "markdown",
   "metadata": {},
   "source": [
    "2.เปลี่ยน code ให้เป็นดังต่อไปนี้\n",
    "\n",
    "```csharp\n",
    "// Generic method\n",
    "Generic.Show<int>(\"Integer\", 123);\n",
    "Generic.Show<float>(\"Floating point\", 123.45f);\n",
    "Generic.Show<decimal>(\"Decimal\", 2345.67M);\n",
    "Generic.Show<string>(\"String\", \"Hello World\");\n",
    "\n",
    "\n",
    "public static class Generic\n",
    "{\n",
    "    public static void Show <T> (string message, T value)\n",
    "    {\n",
    "        System.Console.WriteLine($\"{message,-15} : {value}\");\n",
    "    }   \n",
    "}\n",
    "```"
   ]
  },
  {
   "cell_type": "markdown",
   "metadata": {},
   "source": [
    "3.Build project โดยการใช้คำสั่ง\n",
    "\n",
    "```cmd\n",
    "dotnet build  Lab18_Ex03\n",
    "```\n",
    "\n",
    "ถ้ามีที่ผิดพลาดในโปรแกรม ให้แก้ไขให้ถูกต้อง"
   ]
  },
  {
   "cell_type": "markdown",
   "metadata": {},
   "source": [
    "4.บันทึกผลที่ได้จากการรันคำสั่งในข้อ 3"
   ]
  },
  {
   "cell_type": "markdown",
   "metadata": {},
   "source": [
    "C:\\Users\\asus\\Documents\\LAB18\\Lab18-CSharp-Generic>dotnet build  Lab18_Ex03  \n",
    "\n",
    "Restore complete (0.2s)\n",
    "\n",
    "  Lab18_Ex03 succeeded (0.5s) → Lab18_Ex03\\bin\\Debug\\net9.0\\Lab18_Ex03.dll\n",
    "\n",
    "Build succeeded in 1.1s"
   ]
  },
  {
   "cell_type": "markdown",
   "metadata": {},
   "source": [
    "5.Run project โดยการใช้คำสั่ง\n",
    "\n",
    "```cmd\n",
    "dotnet run --project Lab18_Ex03\n",
    "```\n",
    "\n"
   ]
  },
  {
   "cell_type": "markdown",
   "metadata": {},
   "source": [
    "6.บันทึกผลที่ได้จากการรันคำสั่งในข้อ 5\n",
    "\n"
   ]
  },
  {
   "cell_type": "markdown",
   "metadata": {},
   "source": [
    "C:\\Users\\asus\\Documents\\LAB18\\Lab18-CSharp-Generic>dotnet run --project Lab18_Ex03    \n",
    "\n",
    "Integer         : 123\n",
    "\n",
    "Floating point  : 123.45\n",
    "\n",
    "Decimal         : 2345.67\n",
    "\n",
    "String          : Hello World"
   ]
  },
  {
   "cell_type": "markdown",
   "metadata": {},
   "source": [
    "7.อธิบายสิ่งที่พบในการทดลอง\n"
   ]
  },
  {
   "cell_type": "markdown",
   "metadata": {},
   "source": [
    "จากการทดลองมีการใช้ Generic Method สร้าง static class ชื่อ Generic ที่มี static method ชื่อ Show<T> ซึ่งรับพารามิเตอร์สองตัวคือ message ประเภท string และ value ประเภท T (ซึ่งเป็น Generic Type) \n",
    "\n",
    "เมธอดนี้จะแสดงผลข้อความที่มีการจัดรูปแบบโดยกำหนดให้ message แสดงชิดซ้ายด้วยความกว้าง 15 ตัวอักษร ตามด้วยเครื่องหมาย : และค่า value การเรียกใช้งานในตัวอย่างแสดงความยืดหยุ่นของ Generic Method \n",
    "\n",
    "ที่สามารถทำงานกับข้อมูลหลายประเภทได้ ทั้ง int, float, decimal และ string โดยไม่ต้องเขียนซ้ำ"
   ]
  }
 ],
 "metadata": {
  "kernelspec": {
   "display_name": ".NET (C#)",
   "language": "C#",
   "name": ".net-csharp"
  },
  "polyglot_notebook": {
   "kernelInfo": {
    "defaultKernelName": "csharp",
    "items": [
     {
      "aliases": [],
      "languageName": "csharp",
      "name": "csharp"
     }
    ]
   }
  }
 },
 "nbformat": 4,
 "nbformat_minor": 2
}
